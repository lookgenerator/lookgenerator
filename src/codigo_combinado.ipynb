{
 "cells": [
  {
   "cell_type": "code",
   "execution_count": 1,
   "id": "a1c540ec-e999-4ecc-918d-a4210af7563b",
   "metadata": {},
   "outputs": [],
   "source": [
    "import os\n",
    "\n",
    "def concat_code_files(base_dir, extensions, output_file):\n",
    "    \"\"\"\n",
    "    Recorre todas las carpetas desde base_dir y concatena el contenido\n",
    "    de los archivos con las extensiones dadas en un solo archivo de salida.\n",
    "\n",
    "    Parámetros:\n",
    "    - base_dir: ruta inicial desde donde recorrer (str)\n",
    "    - extensions: lista de extensiones, ej. ['.py', '.sql']\n",
    "    - output_file: nombre del archivo de salida (str)\n",
    "    \"\"\"\n",
    "    total_files = 0\n",
    "    total_lines = 0\n",
    "\n",
    "    with open(output_file, 'w', encoding='utf-8') as outfile:\n",
    "        for root, _, files in os.walk(base_dir):\n",
    "            for file in files:\n",
    "                if any(file.lower().endswith(ext.lower()) for ext in extensions):\n",
    "                    file_path = os.path.join(root, file)\n",
    "                    outfile.write(f\"\\n\\n=== Archivo: {file_path} ===\\n\\n\")\n",
    "\n",
    "                    try:\n",
    "                        with open(file_path, 'r', encoding='utf-8') as infile:\n",
    "                            content = infile.read()\n",
    "                            outfile.write(content)\n",
    "                            num_lines = content.count('\\n') + 1\n",
    "                            total_lines += num_lines\n",
    "                            total_files += 1\n",
    "                    except Exception as e:\n",
    "                        outfile.write(f\"\\n[ERROR al leer el archivo: {e}]\\n\")\n",
    "\n",
    "        outfile.write(\"\\n\\n\" + \"=\"*60 + \"\\n\")\n",
    "        outfile.write(f\"Resumen final:\\n\")\n",
    "        outfile.write(f\"Total de archivos procesados: {total_files}\\n\")\n",
    "        outfile.write(f\"Total de líneas combinadas: {total_lines}\\n\")\n",
    "        outfile.write(\"=\"*60 + \"\\n\")\n",
    "\n",
    "    print(f\"✅ Proceso completado. Archivo generado: {output_file}\")\n",
    "    print(f\"📁 Archivos procesados: {total_files}\")\n",
    "    print(f\"🧾 Total de líneas: {total_lines}\")\n"
   ]
  },
  {
   "cell_type": "code",
   "execution_count": 2,
   "id": "baddbae1-20c8-45e4-aa7f-243975583fcd",
   "metadata": {},
   "outputs": [
    {
     "name": "stdout",
     "output_type": "stream",
     "text": [
      "✅ Proceso completado. Archivo generado: codigo_combinado.txt\n",
      "📁 Archivos procesados: 37\n",
      "🧾 Total de líneas: 2842\n"
     ]
    }
   ],
   "source": [
    "# Ruta base desde donde quieres recorrer\n",
    "base_dir = \".\"\n",
    "\n",
    "# Lista de extensiones a incluir\n",
    "extensions = ['.ts', '.tsx', '.css']\n",
    "\n",
    "# Archivo de salida\n",
    "output_file = \"codigo_combinado.txt\"\n",
    "\n",
    "# Ejecutar la función\n",
    "concat_code_files(base_dir, extensions, output_file)\n"
   ]
  },
  {
   "cell_type": "code",
   "execution_count": null,
   "id": "9addac3f-1167-4372-baec-1ed2bf399efb",
   "metadata": {},
   "outputs": [],
   "source": []
  }
 ],
 "metadata": {
  "kernelspec": {
   "display_name": "Python 3 (ipykernel)",
   "language": "python",
   "name": "python3"
  },
  "language_info": {
   "codemirror_mode": {
    "name": "ipython",
    "version": 3
   },
   "file_extension": ".py",
   "mimetype": "text/x-python",
   "name": "python",
   "nbconvert_exporter": "python",
   "pygments_lexer": "ipython3",
   "version": "3.12.2"
  }
 },
 "nbformat": 4,
 "nbformat_minor": 5
}
